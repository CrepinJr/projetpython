{
  "nbformat": 4,
  "nbformat_minor": 0,
  "metadata": {
    "colab": {
      "provenance": [],
      "include_colab_link": true
    },
    "kernelspec": {
      "name": "python3",
      "display_name": "Python 3"
    },
    "language_info": {
      "name": "python"
    }
  },
  "cells": [
    {
      "cell_type": "markdown",
      "metadata": {
        "id": "view-in-github",
        "colab_type": "text"
      },
      "source": [
        "<a href=\"https://colab.research.google.com/github/CrepinJr/projetpython/blob/main/datahub2.ipynb\" target=\"_parent\"><img src=\"https://colab.research.google.com/assets/colab-badge.svg\" alt=\"Open In Colab\"/></a>"
      ]
    },
    {
      "cell_type": "markdown",
      "source": [
        "<font size=6.5 color=\"sky-blue\"><b> <span> Initiation à Python pour la Data Science </span> </b></font>\n"
      ],
      "metadata": {
        "id": "RGZfT6kW99x0"
      }
    },
    {
      "cell_type": "markdown",
      "source": [
        "<font size=5><b> <span> Exercice Séance 2 : </span> </b>  Structure de contrôle et Intro à Numpy</font></center>"
      ],
      "metadata": {
        "id": "dxc55_J2-Cfn"
      }
    },
    {
      "cell_type": "markdown",
      "source": [
        "##### **Tp à envoyer au plus tard le vendredi 19 janvier à 17h GMT**"
      ],
      "metadata": {
        "id": "l59FzVMV6skR"
      }
    },
    {
      "cell_type": "code",
      "source": [
        "HOUESSOU\n",
        "Crépin"
      ],
      "metadata": {
        "id": "AhJFH4jF6m6h"
      },
      "execution_count": null,
      "outputs": []
    },
    {
      "cell_type": "markdown",
      "source": [
        "#### **Exercice 1 (Structures de contrôle if, elif, else)**"
      ],
      "metadata": {
        "id": "xB-YfcqYVqvi"
      }
    },
    {
      "cell_type": "markdown",
      "source": [
        "\n",
        "1- Écrivez un programme qui demande à l'utilisateur de saisir un nombre, puis affiche \"positif\", \"négatif\", ou \"zéro\" en fonction du nombre saisi.\n"
      ],
      "metadata": {
        "id": "ecmduqc7-LQY"
      }
    },
    {
      "cell_type": "code",
      "source": [
        "num = float(input(\"Entrez un nombre: \"))\n",
        "\n",
        "if num > 0:\n",
        "  print('Positif')\n",
        "elif num == 0:\n",
        "  print(\"Zéro\")\n",
        "else :\n",
        "  print(\"Négatif\")"
      ],
      "metadata": {
        "id": "bXzwm9arVsIb",
        "colab": {
          "base_uri": "https://localhost:8080/"
        },
        "outputId": "e31139fe-f645-4814-f8ae-ff5996b6dadc"
      },
      "execution_count": null,
      "outputs": [
        {
          "output_type": "stream",
          "name": "stdout",
          "text": [
            "Entrez un nombre: 1\n",
            "Positif\n"
          ]
        }
      ]
    },
    {
      "cell_type": "markdown",
      "source": [
        "2- Créez un programme qui demande à l'utilisateur son âge, puis affiche \"mineur\", \"majeur\" ou \"senior\" en fonction de l'âge."
      ],
      "metadata": {
        "id": "gJGTw9HLVszy"
      }
    },
    {
      "cell_type": "code",
      "source": [
        "num = int(input(\"Entrez un age: \"))\n",
        "\n",
        "if num >= 0 and num < 18:\n",
        "  print('Mineur')\n",
        "elif num>= 18 and num < 50:\n",
        "  print(\"Majeur\")\n",
        "elif num >= 50:\n",
        "  print(\"Majeur\")\n",
        "else:\n",
        "  print(\"Pas un age\")"
      ],
      "metadata": {
        "id": "Td91JFZtVxn6",
        "colab": {
          "base_uri": "https://localhost:8080/"
        },
        "outputId": "648de1bd-c8dd-4433-f33e-1d219e61e568"
      },
      "execution_count": null,
      "outputs": [
        {
          "output_type": "stream",
          "name": "stdout",
          "text": [
            "Entrez un age: -6\n",
            "Pas un age\n"
          ]
        }
      ]
    },
    {
      "cell_type": "markdown",
      "source": [
        "3- Écrivez un programme qui prend deux nombres en entrée et affiche le plus grand des deux."
      ],
      "metadata": {
        "id": "jCte4HYcVygw"
      }
    },
    {
      "cell_type": "code",
      "source": [
        "num1 = int(input(\"Entrez le premier nombre : \"))\n",
        "num2 = int(input(\"Entrez le deuxième nombre : \"))\n",
        "\n",
        "if num1 > num2:\n",
        "  print(num1, \"est le plus grand\")\n",
        "elif num2 > num1:\n",
        "  print(num2, \"est le plus grand\")\n",
        "else:\n",
        "  print(\"Les deux nombres sont égaux\")"
      ],
      "metadata": {
        "id": "s-M_-yBrV1Oo",
        "colab": {
          "base_uri": "https://localhost:8080/"
        },
        "outputId": "3ad92c39-8d2f-4dbd-a1cf-ec9b81ebf690"
      },
      "execution_count": 3,
      "outputs": [
        {
          "output_type": "stream",
          "name": "stdout",
          "text": [
            "Entrez le premier nombre : -6\n",
            "Entrez le deuxième nombre : 1\n",
            "1 est le plus grand\n"
          ]
        }
      ]
    },
    {
      "cell_type": "markdown",
      "source": [
        "#### **Exercice 2 (Boucle for et while)**"
      ],
      "metadata": {
        "id": "AdAZ9Lf7acVU"
      }
    },
    {
      "cell_type": "markdown",
      "source": [
        "1- Écrivez un programme qui calcule la somme des nombres de 1 à 10 à l'aide d'une boucle for."
      ],
      "metadata": {
        "id": "Yh8DJjHbakWx"
      }
    },
    {
      "cell_type": "code",
      "source": [
        "somme = 0\n",
        "\n",
        "for i in range(1, 11):\n",
        "  somme += i\n",
        "\n",
        "print(\"La somme des nombres de 1 à 10 est :\", somme)"
      ],
      "metadata": {
        "id": "MAEi5trTapNq",
        "colab": {
          "base_uri": "https://localhost:8080/"
        },
        "outputId": "e1a07f51-07ed-4451-ad24-e8bf39faca5b"
      },
      "execution_count": 4,
      "outputs": [
        {
          "output_type": "stream",
          "name": "stdout",
          "text": [
            "La somme des nombres de 1 à 10 est : 55\n"
          ]
        }
      ]
    },
    {
      "cell_type": "markdown",
      "source": [
        "2- Écrivez un programme qui demande à l'utilisateur de deviner un nombre entre 1 et 10. Utilisez une boucle while pour continuer à demander jusqu'à ce que l'utilisateur trouve le bon nombre."
      ],
      "metadata": {
        "id": "CR7EppSrap3v"
      }
    },
    {
      "cell_type": "code",
      "source": [
        "from random import randint\n",
        "\n",
        "nombre_mystere = randint(1, 10)\n",
        "trouve = False\n",
        "\n",
        "while not trouve:\n",
        "  num = int(input(\"Devinez le nombre (entre 1 et 10) : \"))\n",
        "\n",
        "  if num == nombre_mystere:\n",
        "    print(\"Bravo, vous avez trouvé le nombre mystère !\")\n",
        "    trouve = True\n",
        "  else:\n",
        "    print(\"Désolé, ce n'est pas le bon nombre. Réessayez !\")\n",
        "\n",
        "print(\"Fin du jeu\")"
      ],
      "metadata": {
        "id": "sNg5VEwva0sY",
        "colab": {
          "base_uri": "https://localhost:8080/"
        },
        "outputId": "18eb52e4-d975-4a0a-cafb-8aec3063e265"
      },
      "execution_count": 5,
      "outputs": [
        {
          "output_type": "stream",
          "name": "stdout",
          "text": [
            "Devinez le nombre (entre 1 et 10) : 1\n",
            "Désolé, ce n'est pas le bon nombre. Réessayez !\n",
            "Devinez le nombre (entre 1 et 10) : 8\n",
            "Désolé, ce n'est pas le bon nombre. Réessayez !\n",
            "Devinez le nombre (entre 1 et 10) : 2\n",
            "Désolé, ce n'est pas le bon nombre. Réessayez !\n",
            "Devinez le nombre (entre 1 et 10) : 3\n",
            "Désolé, ce n'est pas le bon nombre. Réessayez !\n",
            "Devinez le nombre (entre 1 et 10) : 4\n",
            "Désolé, ce n'est pas le bon nombre. Réessayez !\n",
            "Devinez le nombre (entre 1 et 10) : 5\n",
            "Désolé, ce n'est pas le bon nombre. Réessayez !\n",
            "Devinez le nombre (entre 1 et 10) : 6\n",
            "Désolé, ce n'est pas le bon nombre. Réessayez !\n",
            "Devinez le nombre (entre 1 et 10) : 7\n",
            "Désolé, ce n'est pas le bon nombre. Réessayez !\n",
            "Devinez le nombre (entre 1 et 10) : 9\n",
            "Désolé, ce n'est pas le bon nombre. Réessayez !\n",
            "Devinez le nombre (entre 1 et 10) : 10\n",
            "Bravo, vous avez trouvé le nombre mystère !\n",
            "Fin du jeu\n"
          ]
        }
      ]
    },
    {
      "cell_type": "markdown",
      "source": [
        "3- Créez une liste de fruits, puis utilisez une boucle for pour afficher chaque fruit."
      ],
      "metadata": {
        "id": "2hziyPysa4vJ"
      }
    },
    {
      "cell_type": "code",
      "source": [
        "fruits = [\"pomme\", \"banane\", \"orange\", \"fraise\", \"kiwi\"]\n",
        "\n",
        "for fruit in fruits:\n",
        "  print(fruit)"
      ],
      "metadata": {
        "id": "8EmMnHJla6Tr",
        "colab": {
          "base_uri": "https://localhost:8080/"
        },
        "outputId": "6603522f-adcf-4864-d3a1-750f0ccdb1dd"
      },
      "execution_count": 6,
      "outputs": [
        {
          "output_type": "stream",
          "name": "stdout",
          "text": [
            "pomme\n",
            "banane\n",
            "orange\n",
            "fraise\n",
            "kiwi\n"
          ]
        }
      ]
    },
    {
      "cell_type": "markdown",
      "source": [
        "#### **Exercice 3 (Création de Tableaux numpy)**"
      ],
      "metadata": {
        "id": "-9Eev80tbBg9"
      }
    },
    {
      "cell_type": "markdown",
      "source": [
        "\n",
        "1- Créez un tableau Numpy 1D avec les entiers de 1 à 5.\n",
        "\n"
      ],
      "metadata": {
        "id": "o4f26P9pVRN5"
      }
    },
    {
      "cell_type": "code",
      "source": [
        "import numpy as np\n",
        "\n",
        "tableau = np.arange(1, 6)\n",
        "\n",
        "print(tableau)\n"
      ],
      "metadata": {
        "id": "1purx-Sp6BeS",
        "colab": {
          "base_uri": "https://localhost:8080/"
        },
        "outputId": "4f23ef20-ba94-4a54-8ea8-a3da9d6277a1"
      },
      "execution_count": 1,
      "outputs": [
        {
          "output_type": "stream",
          "name": "stdout",
          "text": [
            "[1 2 3 4 5]\n"
          ]
        }
      ]
    },
    {
      "cell_type": "markdown",
      "source": [
        "\n",
        "2- Créez un tableau Numpy 2D (matrice) 2x3 avec des nombres entiers de votre choix."
      ],
      "metadata": {
        "id": "0UYKUFSSbINA"
      }
    },
    {
      "cell_type": "code",
      "source": [
        "matrice = np.array([[1, 2, 3], [4, 5, 6]])\n",
        "\n",
        "print(matrice)"
      ],
      "metadata": {
        "id": "PnpeUOCgbJSj",
        "colab": {
          "base_uri": "https://localhost:8080/"
        },
        "outputId": "9d20f718-0886-41f0-faee-dc3a2846f927"
      },
      "execution_count": 2,
      "outputs": [
        {
          "output_type": "stream",
          "name": "stdout",
          "text": [
            "[[1 2 3]\n",
            " [4 5 6]]\n"
          ]
        }
      ]
    },
    {
      "cell_type": "markdown",
      "source": [
        "#### **Exercice 4 (Indexation et Slicing)**"
      ],
      "metadata": {
        "id": "3LqOHZSgbM1p"
      }
    },
    {
      "cell_type": "markdown",
      "source": [
        "1- Accédez au deuxième élément du tableau 1D."
      ],
      "metadata": {
        "id": "FCNLeHJc-YMg"
      }
    },
    {
      "cell_type": "code",
      "source": [
        "print(tableau[1])"
      ],
      "metadata": {
        "id": "a1x_wHQZ6MNg",
        "colab": {
          "base_uri": "https://localhost:8080/"
        },
        "outputId": "ee99f22e-3405-4915-d453-4f82f7254e24"
      },
      "execution_count": 3,
      "outputs": [
        {
          "output_type": "stream",
          "name": "stdout",
          "text": [
            "2\n"
          ]
        }
      ]
    },
    {
      "cell_type": "markdown",
      "source": [
        "2- Accédez à l'élément situé à la deuxième ligne et troisième colonne du tableau 2D.\n",
        "\n"
      ],
      "metadata": {
        "id": "94qGR0MxbXaI"
      }
    },
    {
      "cell_type": "code",
      "source": [
        "element = matrice[1, 2:]\n",
        "print(element)"
      ],
      "metadata": {
        "id": "yTaSSzjSbY7t",
        "colab": {
          "base_uri": "https://localhost:8080/"
        },
        "outputId": "c10b2705-9123-4a49-8f8a-0c79a6050341"
      },
      "execution_count": 6,
      "outputs": [
        {
          "output_type": "stream",
          "name": "stdout",
          "text": [
            "[6]\n"
          ]
        }
      ]
    },
    {
      "cell_type": "markdown",
      "source": [
        "3- Sélectionnez les deux premiers éléments de chaque ligne dans le tableau 2D."
      ],
      "metadata": {
        "id": "5k3kmzZobZUg"
      }
    },
    {
      "cell_type": "code",
      "source": [
        "print(matrice[:, :2])"
      ],
      "metadata": {
        "id": "4KyXepSYbaXA",
        "colab": {
          "base_uri": "https://localhost:8080/"
        },
        "outputId": "761c0249-483a-46b8-94d5-759f072b818e"
      },
      "execution_count": 7,
      "outputs": [
        {
          "output_type": "stream",
          "name": "stdout",
          "text": [
            "[[1 2]\n",
            " [4 5]]\n"
          ]
        }
      ]
    },
    {
      "cell_type": "markdown",
      "source": [
        "#### **Exercice 5 (Opérations de Base- Numpy)**"
      ],
      "metadata": {
        "id": "O874hgMHberK"
      }
    },
    {
      "cell_type": "markdown",
      "source": [
        "\n",
        "1- Ajoutez 5 à chaque élément du tableau 1D.\n",
        "\n"
      ],
      "metadata": {
        "id": "UkE1Erwk_V1w"
      }
    },
    {
      "cell_type": "code",
      "source": [
        "tableau = tableau + 5\n",
        "print(tableau)"
      ],
      "metadata": {
        "id": "K7HPCCPb6NEB",
        "colab": {
          "base_uri": "https://localhost:8080/"
        },
        "outputId": "a0b28d9d-fd05-4cfe-a035-8b2b0c845a91"
      },
      "execution_count": 8,
      "outputs": [
        {
          "output_type": "stream",
          "name": "stdout",
          "text": [
            "[ 6  7  8  9 10]\n"
          ]
        }
      ]
    },
    {
      "cell_type": "markdown",
      "source": [
        "2- Multipliez chaque élément du tableau 2D par 2.\n"
      ],
      "metadata": {
        "id": "7MJJLBqdbmCQ"
      }
    },
    {
      "cell_type": "code",
      "source": [
        "matrice = matrice*2\n",
        "print(matrice)"
      ],
      "metadata": {
        "id": "MDN6vAp9bqur",
        "colab": {
          "base_uri": "https://localhost:8080/"
        },
        "outputId": "9ec8767a-5359-4e38-c1fc-6092f7af94a6"
      },
      "execution_count": 9,
      "outputs": [
        {
          "output_type": "stream",
          "name": "stdout",
          "text": [
            "[[ 2  4  6]\n",
            " [ 8 10 12]]\n"
          ]
        }
      ]
    },
    {
      "cell_type": "markdown",
      "source": [
        "3- Calculez la somme et la moyenne des éléments du tableau 1D.\n"
      ],
      "metadata": {
        "id": "alY9KstpbrBo"
      }
    },
    {
      "cell_type": "code",
      "source": [
        "somme = tableau.sum()\n",
        "moyenne = tableau.mean()\n",
        "print(somme)\n",
        "print(moyenne)"
      ],
      "metadata": {
        "id": "CQicRp5lbrpQ",
        "colab": {
          "base_uri": "https://localhost:8080/"
        },
        "outputId": "0136cb18-6907-4374-f4e4-cb3d6ae680d9"
      },
      "execution_count": 11,
      "outputs": [
        {
          "output_type": "stream",
          "name": "stdout",
          "text": [
            "40\n",
            "8.0\n"
          ]
        }
      ]
    },
    {
      "cell_type": "markdown",
      "source": [
        "#### **Exercice 6 : (Filtrage et Conditionnement)**"
      ],
      "metadata": {
        "id": "sbUArHjKbzxs"
      }
    },
    {
      "cell_type": "markdown",
      "source": [
        "\n",
        "1- Créez un tableau Numpy 1D de nombres aléatoires entre 1 et 20.\n",
        "\n",
        "\n",
        "\n"
      ],
      "metadata": {
        "id": "bRoRiUkIGo98"
      }
    },
    {
      "cell_type": "code",
      "source": [
        "tableau_aleatoire = np.random.randint(1, 21, size=10)\n",
        "\n",
        "print(tableau_aleatoire)"
      ],
      "metadata": {
        "id": "1zcebpI36Nzq",
        "colab": {
          "base_uri": "https://localhost:8080/"
        },
        "outputId": "65c780e9-4a62-4d9a-899b-25f3e670a44e"
      },
      "execution_count": 12,
      "outputs": [
        {
          "output_type": "stream",
          "name": "stdout",
          "text": [
            "[ 7 11 14 17  6 17 20 14  2  3]\n"
          ]
        }
      ]
    },
    {
      "cell_type": "markdown",
      "source": [
        "2- Sélectionnez tous les éléments du tableau qui sont supérieurs à 10.\n",
        "\n"
      ],
      "metadata": {
        "id": "1jwwjdPHb4t4"
      }
    },
    {
      "cell_type": "code",
      "source": [
        "elements = tableau_aleatoire[tableau_aleatoire > 10]\n",
        "print(elements)"
      ],
      "metadata": {
        "id": "2hl-RVTfb6Bl",
        "colab": {
          "base_uri": "https://localhost:8080/"
        },
        "outputId": "cd2a7cc1-75cc-4edd-8601-644ae49efeb1"
      },
      "execution_count": 13,
      "outputs": [
        {
          "output_type": "stream",
          "name": "stdout",
          "text": [
            "[11 14 17 17 20 14]\n"
          ]
        }
      ]
    },
    {
      "cell_type": "markdown",
      "source": [
        "3- Remplacez tous les éléments du tableau inférieurs à 5 par la valeur 0."
      ],
      "metadata": {
        "id": "QhaeznNTb6dX"
      }
    },
    {
      "cell_type": "code",
      "source": [
        "tableau_aleatoire[tableau_aleatoire < 5] = 0\n",
        "print(tableau_aleatoire)"
      ],
      "metadata": {
        "id": "a_8bdS_zb7I7",
        "colab": {
          "base_uri": "https://localhost:8080/"
        },
        "outputId": "ea49cc21-e6f2-497f-f89b-b450ec104e18"
      },
      "execution_count": 14,
      "outputs": [
        {
          "output_type": "stream",
          "name": "stdout",
          "text": [
            "[ 7 11 14 17  6 17 20 14  0  0]\n"
          ]
        }
      ]
    },
    {
      "cell_type": "markdown",
      "source": [
        "#### **Exercice 7 : (Manipulation de Matrices)**"
      ],
      "metadata": {
        "id": "TeTKbdeSb_Lc"
      }
    },
    {
      "cell_type": "markdown",
      "source": [
        "\n",
        "\n",
        "1- Créez une matrice identité 3x3.\n",
        "\n"
      ],
      "metadata": {
        "id": "adi1hqugGw9e"
      }
    },
    {
      "cell_type": "code",
      "source": [
        "matrice_identite = np.eye(3)\n",
        "print(matrice_identite)"
      ],
      "metadata": {
        "id": "UiEyn-Hy6Ox-",
        "colab": {
          "base_uri": "https://localhost:8080/"
        },
        "outputId": "46f553df-e226-48bd-b426-3256ead30395"
      },
      "execution_count": 15,
      "outputs": [
        {
          "output_type": "stream",
          "name": "stdout",
          "text": [
            "[[1. 0. 0.]\n",
            " [0. 1. 0.]\n",
            " [0. 0. 1.]]\n"
          ]
        }
      ]
    },
    {
      "cell_type": "markdown",
      "source": [
        "2- Concaténez horizontalement deux tableaux 1D.\n",
        "\n"
      ],
      "metadata": {
        "id": "jGZSwi24cCjz"
      }
    },
    {
      "cell_type": "code",
      "source": [
        "tableau1 = np.array([1, 2, 3])\n",
        "tableau2 = np.array([4, 5, 6])\n",
        "\n",
        "tableau_concatene = np.concatenate((tableau1, tableau2), axis=0)\n",
        "\n",
        "print(tableau_concatene)"
      ],
      "metadata": {
        "id": "jxRyO-YtcEDl",
        "colab": {
          "base_uri": "https://localhost:8080/"
        },
        "outputId": "ed6c3987-c9a8-413e-b66b-250fa80f7ba4"
      },
      "execution_count": 20,
      "outputs": [
        {
          "output_type": "stream",
          "name": "stdout",
          "text": [
            "[1 2 3 4 5 6]\n"
          ]
        }
      ]
    },
    {
      "cell_type": "markdown",
      "source": [
        "3- Effectuez une multiplication matricielle entre une matrice 2x3 et un tableau 3x1."
      ],
      "metadata": {
        "id": "sgIyeBUGcEcg"
      }
    },
    {
      "cell_type": "code",
      "source": [
        "tableau3 = np.array([[1, 2, 3],[4, 5, 6]])\n",
        "\n",
        "tableau4 = np.array([[7],[8],[9]])\n",
        "print(np.dot(tableau3, tableau4))"
      ],
      "metadata": {
        "id": "7YwxAsGgcFTp",
        "colab": {
          "base_uri": "https://localhost:8080/"
        },
        "outputId": "076deda5-4b0a-425a-cff1-d724b468e1ed"
      },
      "execution_count": 21,
      "outputs": [
        {
          "output_type": "stream",
          "name": "stdout",
          "text": [
            "[[ 50]\n",
            " [122]]\n"
          ]
        }
      ]
    }
  ]
}